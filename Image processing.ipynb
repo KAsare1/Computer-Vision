{
 "cells": [
  {
   "cell_type": "code",
   "execution_count": 1,
   "id": "cf116a23",
   "metadata": {},
   "outputs": [],
   "source": [
    "import matplotlib.pyplot as plt\n",
    "import numpy as np\n",
    "import matplotlib.image as mpimg\n",
    "import cv2\n",
    "\n",
    "%matplotlib qt"
   ]
  },
  {
   "cell_type": "code",
   "execution_count": 2,
   "id": "410bab5e",
   "metadata": {},
   "outputs": [
    {
     "data": {
      "text/plain": [
       "<matplotlib.image.AxesImage at 0x27fb3f0ed90>"
      ]
     },
     "execution_count": 2,
     "metadata": {},
     "output_type": "execute_result"
    }
   ],
   "source": [
    "image = mpimg.imread('images/rand.jpg')\n",
    "plt.imshow(image)"
   ]
  },
  {
   "cell_type": "code",
   "execution_count": 3,
   "id": "5843ee11",
   "metadata": {},
   "outputs": [
    {
     "name": "stdout",
     "output_type": "stream",
     "text": [
      "(362, 640, 3)\n"
     ]
    }
   ],
   "source": [
    "print(image.shape)"
   ]
  },
  {
   "cell_type": "code",
   "execution_count": 4,
   "id": "4a97e6d6",
   "metadata": {},
   "outputs": [],
   "source": [
    "gray_image = cv2.cvtColor(image, cv2.COLOR_RGB2GRAY)"
   ]
  },
  {
   "cell_type": "code",
   "execution_count": 14,
   "id": "ba9eca0d",
   "metadata": {},
   "outputs": [
    {
     "data": {
      "text/plain": [
       "<matplotlib.image.AxesImage at 0x27fb52c4690>"
      ]
     },
     "execution_count": 14,
     "metadata": {},
     "output_type": "execute_result"
    }
   ],
   "source": [
    "plt.imshow(gray_image, cmap='gray')"
   ]
  },
  {
   "cell_type": "code",
   "execution_count": 6,
   "id": "4ad35ce2",
   "metadata": {},
   "outputs": [
    {
     "name": "stdout",
     "output_type": "stream",
     "text": [
      "(362, 640)\n"
     ]
    }
   ],
   "source": [
    "print(gray_image.shape)"
   ]
  },
  {
   "cell_type": "code",
   "execution_count": 7,
   "id": "1ce7ceb8",
   "metadata": {},
   "outputs": [
    {
     "data": {
      "text/plain": [
       "<matplotlib.image.AxesImage at 0x27fb2bd0810>"
      ]
     },
     "execution_count": 7,
     "metadata": {},
     "output_type": "execute_result"
    }
   ],
   "source": [
    "image2 = mpimg.imread('images/gmod.jpeg')\n",
    "plt.imshow(image2)"
   ]
  },
  {
   "cell_type": "code",
   "execution_count": 8,
   "id": "fa3d3211",
   "metadata": {},
   "outputs": [],
   "source": [
    "image2_copy = image2.copy"
   ]
  },
  {
   "cell_type": "code",
   "execution_count": 9,
   "id": "ef4b3d93",
   "metadata": {},
   "outputs": [],
   "source": [
    "image2_copy = cv2.cvtColor(image2, cv2.COLOR_BGR2RGB)"
   ]
  },
  {
   "cell_type": "code",
   "execution_count": 13,
   "id": "f8d92ee7",
   "metadata": {},
   "outputs": [
    {
     "data": {
      "text/plain": [
       "<matplotlib.image.AxesImage at 0x27fb5275650>"
      ]
     },
     "execution_count": 13,
     "metadata": {},
     "output_type": "execute_result"
    }
   ],
   "source": [
    "plt.imshow(image2_copy)"
   ]
  },
  {
   "cell_type": "code",
   "execution_count": null,
   "id": "3075d0f8",
   "metadata": {},
   "outputs": [],
   "source": [
    "lower_green = np.array([0, 80, 0])\n",
    "upper_green = np.array([100, 255, 100])"
   ]
  },
  {
   "cell_type": "code",
   "execution_count": 23,
   "id": "568f3c70",
   "metadata": {},
   "outputs": [],
   "source": [
    "mask = cv2.inRange(image2_copy, lower_green, upper_green)"
   ]
  },
  {
   "cell_type": "code",
   "execution_count": 24,
   "id": "67f1a751",
   "metadata": {},
   "outputs": [
    {
     "data": {
      "text/plain": [
       "<matplotlib.image.AxesImage at 0x27fb9d8ed90>"
      ]
     },
     "execution_count": 24,
     "metadata": {},
     "output_type": "execute_result"
    }
   ],
   "source": [
    "plt.imshow(mask, cmap='gray')"
   ]
  },
  {
   "cell_type": "code",
   "execution_count": 31,
   "id": "1f120936",
   "metadata": {},
   "outputs": [
    {
     "data": {
      "text/plain": [
       "<matplotlib.image.AxesImage at 0x27fba295ad0>"
      ]
     },
     "execution_count": 31,
     "metadata": {},
     "output_type": "execute_result"
    }
   ],
   "source": [
    "masked_image = image2_copy.copy()\n",
    "plt.imshow(masked_image)"
   ]
  },
  {
   "cell_type": "code",
   "execution_count": 26,
   "id": "f83a4812",
   "metadata": {},
   "outputs": [
    {
     "data": {
      "text/plain": [
       "(168, 300, 3)"
      ]
     },
     "execution_count": 26,
     "metadata": {},
     "output_type": "execute_result"
    }
   ],
   "source": [
    "masked_image.shape"
   ]
  },
  {
   "cell_type": "code",
   "execution_count": 27,
   "id": "4cd6fb2a",
   "metadata": {},
   "outputs": [
    {
     "data": {
      "text/plain": [
       "(168, 300)"
      ]
     },
     "execution_count": 27,
     "metadata": {},
     "output_type": "execute_result"
    }
   ],
   "source": [
    "mask.shape"
   ]
  },
  {
   "cell_type": "code",
   "execution_count": 28,
   "id": "2d227d0f",
   "metadata": {},
   "outputs": [
    {
     "data": {
      "text/plain": [
       "<matplotlib.image.AxesImage at 0x27fb9dbd810>"
      ]
     },
     "execution_count": 28,
     "metadata": {},
     "output_type": "execute_result"
    }
   ],
   "source": [
    "masked_image[mask != 0] = [0, 0, 0]\n",
    "plt.imshow(masked_image)"
   ]
  },
  {
   "cell_type": "code",
   "execution_count": 29,
   "id": "9bb11f59",
   "metadata": {},
   "outputs": [],
   "source": [
    "background_image = mpimg.imread('images/hubble.jpg')\n",
    "background_image = cv2.cvtColor(background_image, cv2.COLOR_BGR2RGB)\n",
    "crop_background = background_image[0:168, 0:300]\n",
    "crop_background[mask == 0] = [0, 0, 0]"
   ]
  },
  {
   "cell_type": "code",
   "execution_count": 30,
   "id": "0f8d3c89",
   "metadata": {},
   "outputs": [
    {
     "data": {
      "text/plain": [
       "<matplotlib.image.AxesImage at 0x27fb9d81890>"
      ]
     },
     "execution_count": 30,
     "metadata": {},
     "output_type": "execute_result"
    }
   ],
   "source": [
    "full_image = crop_background+masked_image\n",
    "plt.imshow(full_image)"
   ]
  },
  {
   "cell_type": "code",
   "execution_count": null,
   "id": "41289592",
   "metadata": {},
   "outputs": [],
   "source": []
  }
 ],
 "metadata": {
  "kernelspec": {
   "display_name": "Python 3 (ipykernel)",
   "language": "python",
   "name": "python3"
  },
  "language_info": {
   "codemirror_mode": {
    "name": "ipython",
    "version": 3
   },
   "file_extension": ".py",
   "mimetype": "text/x-python",
   "name": "python",
   "nbconvert_exporter": "python",
   "pygments_lexer": "ipython3",
   "version": "3.11.0"
  }
 },
 "nbformat": 4,
 "nbformat_minor": 5
}
